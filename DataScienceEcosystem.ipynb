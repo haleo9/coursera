{
 "cells": [
  {
   "cell_type": "markdown",
   "id": "a5c4da7d-9d62-4648-9032-c2e140481206",
   "metadata": {},
   "source": [
    "# Data Science Tools and Ecosystem"
   ]
  },
  {
   "cell_type": "markdown",
   "id": "5e6f1e6a-3ff8-4908-8d13-d93871e054a2",
   "metadata": {},
   "source": [
    "In this notebook, Data Science Tools and Ecosystem are summarized."
   ]
  },
  {
   "cell_type": "markdown",
   "id": "29b0ce9a-7773-49f1-9806-45f5adad4e5c",
   "metadata": {},
   "source": [
    "**Objectives:**\r\n",
    "\r\n",
    "- List popular languages for Data Science\r\n",
    "- List commonly used libraries in Data Science\r\n",
    "- Create tables and lists using Markdown\r\n",
    "- Perform arithmetic operations in Python\r\n",
    "- Convert time units in Python\r\n"
   ]
  },
  {
   "cell_type": "markdown",
   "id": "13c0f09c-124c-40fc-bb0c-d3824a6df95a",
   "metadata": {},
   "source": [
    "Some of the popular languages that Data Scientists use are:\n",
    "\n",
    "1. Python\n",
    "2. R\n",
    "3. SQL"
   ]
  },
  {
   "cell_type": "markdown",
   "id": "453afc24-b8c9-4631-8a3e-edf8a4adc88e",
   "metadata": {},
   "source": [
    "Some of the commonly used libraries used by Data Scientists include:\n",
    "\n",
    "1. Pandas\n",
    "2. NumPy\n",
    "3. Matplotlib\n",
    "4. Seaborn\n",
    "5. SciPy"
   ]
  },
  {
   "cell_type": "markdown",
   "id": "7f1d60ef-eaed-4cdb-bf1a-4dfa38fa043b",
   "metadata": {},
   "source": [
    "| Data Science Tools |\n",
    "| -------------|\n",
    "| IBM Watson Studio |\n",
    "| RStudio| \n",
    "| Jupyter IDE| "
   ]
  },
  {
   "cell_type": "markdown",
   "id": "0f6d4b69-ed6e-4853-b1a1-5733ed513ccb",
   "metadata": {},
   "source": [
    "### Below are a few examples of evaluating arithmetic expressions in Python.\n",
    "\n",
    "**Addition**\n",
    "\n",
    "a + b  \n",
    "\n",
    "**Subtraction**\n",
    "\n",
    "a - b   \n",
    "\n",
    "**Mulitplication**\n",
    "\n",
    "a * b  \n",
    "\n",
    "**Division**\n",
    "\n",
    "a / b \n",
    "\n",
    "**Exponentiation**\n",
    "\n",
    "a ** b "
   ]
  },
  {
   "cell_type": "code",
   "execution_count": 47,
   "id": "6becce81-e756-44a2-b018-096e5e9b2469",
   "metadata": {},
   "outputs": [
    {
     "name": "stdout",
     "output_type": "stream",
     "text": [
      "17\n"
     ]
    }
   ],
   "source": [
    "# This is a simple arithmetic expression to multiply then add integers.\n",
    "result = (3 * 4) + 5\n",
    "print(result)\n"
   ]
  },
  {
   "cell_type": "code",
   "execution_count": 49,
   "id": "423c87dc-64fd-43b9-89b7-ebc8d5fac144",
   "metadata": {},
   "outputs": [
    {
     "name": "stdout",
     "output_type": "stream",
     "text": [
      "3.3333333333333335\n"
     ]
    }
   ],
   "source": [
    "# This will convert 200 minutes to hours by dividing by 60.\n",
    "minutes = 200\n",
    "hours = minutes / 60\n",
    "print(hours)\n"
   ]
  },
  {
   "cell_type": "markdown",
   "id": "82340193-8823-49c7-8e04-aad6e9611d04",
   "metadata": {},
   "source": [
    "## Author\n",
    "\n",
    "Heidi Leonard"
   ]
  }
 ],
 "metadata": {
  "kernelspec": {
   "display_name": "Python 3 (ipykernel)",
   "language": "python",
   "name": "python3"
  },
  "language_info": {
   "codemirror_mode": {
    "name": "ipython",
    "version": 3
   },
   "file_extension": ".py",
   "mimetype": "text/x-python",
   "name": "python",
   "nbconvert_exporter": "python",
   "pygments_lexer": "ipython3",
   "version": "3.11.9"
  }
 },
 "nbformat": 4,
 "nbformat_minor": 5
}
